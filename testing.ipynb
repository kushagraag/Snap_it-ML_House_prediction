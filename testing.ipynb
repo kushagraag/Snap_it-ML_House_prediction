{
 "cells": [
  {
   "cell_type": "code",
   "execution_count": 1,
   "id": "f1ac399b",
   "metadata": {},
   "outputs": [],
   "source": [
    "import pandas as pd\n",
    "import numpy as np\n",
    "import matplotlib.pyplot as plt\n",
    "import seaborn as sns"
   ]
  },
  {
   "cell_type": "code",
   "execution_count": 3,
   "id": "44c6dc94",
   "metadata": {},
   "outputs": [],
   "source": [
    "df=pd.read_csv(\"test.csv\")"
   ]
  },
  {
   "cell_type": "code",
   "execution_count": 4,
   "id": "213a1763",
   "metadata": {},
   "outputs": [
    {
     "data": {
      "text/html": [
       "<div>\n",
       "<style scoped>\n",
       "    .dataframe tbody tr th:only-of-type {\n",
       "        vertical-align: middle;\n",
       "    }\n",
       "\n",
       "    .dataframe tbody tr th {\n",
       "        vertical-align: top;\n",
       "    }\n",
       "\n",
       "    .dataframe thead th {\n",
       "        text-align: right;\n",
       "    }\n",
       "</style>\n",
       "<table border=\"1\" class=\"dataframe\">\n",
       "  <thead>\n",
       "    <tr style=\"text-align: right;\">\n",
       "      <th></th>\n",
       "      <th>PRODUCT_ID</th>\n",
       "      <th>PRODUCT_NAME</th>\n",
       "      <th>PRODUCT_CONDITION</th>\n",
       "      <th>CATEGORY</th>\n",
       "      <th>PRODUCT_BRAND</th>\n",
       "      <th>SHIPPING_AVAILABILITY</th>\n",
       "      <th>PRODUCT_DESCRIPTION</th>\n",
       "    </tr>\n",
       "  </thead>\n",
       "  <tbody>\n",
       "    <tr>\n",
       "      <th>0</th>\n",
       "      <td>777341</td>\n",
       "      <td>F/ship 4 Totoro Washi + 1 pen</td>\n",
       "      <td>1</td>\n",
       "      <td>Handmade/Paper Goods/Stationery</td>\n",
       "      <td>NaN</td>\n",
       "      <td>1</td>\n",
       "      <td>This listing is for all 4 Totoro washi tape fo...</td>\n",
       "    </tr>\n",
       "    <tr>\n",
       "      <th>1</th>\n",
       "      <td>1463629</td>\n",
       "      <td>UCLA Men's Bundle + Shorts</td>\n",
       "      <td>1</td>\n",
       "      <td>Women/Other/Other</td>\n",
       "      <td>Adidas</td>\n",
       "      <td>1</td>\n",
       "      <td>7 items. 1: XL. 2: 2XL. 3:2XL. 4: XL. 5: 2XL. ...</td>\n",
       "    </tr>\n",
       "    <tr>\n",
       "      <th>2</th>\n",
       "      <td>350669</td>\n",
       "      <td>Listing for lol</td>\n",
       "      <td>1</td>\n",
       "      <td>Beauty/Makeup/Lips</td>\n",
       "      <td>NaN</td>\n",
       "      <td>1</td>\n",
       "      <td>- sunglasses and necklace :)</td>\n",
       "    </tr>\n",
       "    <tr>\n",
       "      <th>3</th>\n",
       "      <td>310222</td>\n",
       "      <td>25 pcs kawaii sticker flakes</td>\n",
       "      <td>1</td>\n",
       "      <td>Kids/Toys/Arts &amp; Crafts</td>\n",
       "      <td>NaN</td>\n",
       "      <td>1</td>\n",
       "      <td>I ordered a bunch of stickers so you will reci...</td>\n",
       "    </tr>\n",
       "    <tr>\n",
       "      <th>4</th>\n",
       "      <td>759257</td>\n",
       "      <td>Chanel Mini Lipgloss Set</td>\n",
       "      <td>2</td>\n",
       "      <td>Beauty/Makeup/Lips</td>\n",
       "      <td>Chanel</td>\n",
       "      <td>1</td>\n",
       "      <td>Brand new never used authentic Mini Lipgloss g...</td>\n",
       "    </tr>\n",
       "  </tbody>\n",
       "</table>\n",
       "</div>"
      ],
      "text/plain": [
       "   PRODUCT_ID                   PRODUCT_NAME  PRODUCT_CONDITION  \\\n",
       "0      777341  F/ship 4 Totoro Washi + 1 pen                  1   \n",
       "1     1463629     UCLA Men's Bundle + Shorts                  1   \n",
       "2      350669                Listing for lol                  1   \n",
       "3      310222   25 pcs kawaii sticker flakes                  1   \n",
       "4      759257       Chanel Mini Lipgloss Set                  2   \n",
       "\n",
       "                          CATEGORY PRODUCT_BRAND  SHIPPING_AVAILABILITY  \\\n",
       "0  Handmade/Paper Goods/Stationery           NaN                      1   \n",
       "1                Women/Other/Other        Adidas                      1   \n",
       "2               Beauty/Makeup/Lips           NaN                      1   \n",
       "3          Kids/Toys/Arts & Crafts           NaN                      1   \n",
       "4               Beauty/Makeup/Lips        Chanel                      1   \n",
       "\n",
       "                                 PRODUCT_DESCRIPTION  \n",
       "0  This listing is for all 4 Totoro washi tape fo...  \n",
       "1  7 items. 1: XL. 2: 2XL. 3:2XL. 4: XL. 5: 2XL. ...  \n",
       "2                       - sunglasses and necklace :)  \n",
       "3  I ordered a bunch of stickers so you will reci...  \n",
       "4  Brand new never used authentic Mini Lipgloss g...  "
      ]
     },
     "execution_count": 4,
     "metadata": {},
     "output_type": "execute_result"
    }
   ],
   "source": [
    "df.head()"
   ]
  },
  {
   "cell_type": "code",
   "execution_count": 6,
   "id": "49b0409d",
   "metadata": {},
   "outputs": [
    {
     "data": {
      "text/plain": [
       "(222381, 7)"
      ]
     },
     "execution_count": 6,
     "metadata": {},
     "output_type": "execute_result"
    }
   ],
   "source": [
    "df.shape"
   ]
  },
  {
   "cell_type": "code",
   "execution_count": 7,
   "id": "4abd51a2",
   "metadata": {},
   "outputs": [
    {
     "data": {
      "text/plain": [
       "PRODUCT_ID                   0\n",
       "PRODUCT_NAME                 0\n",
       "PRODUCT_CONDITION            0\n",
       "CATEGORY                   911\n",
       "PRODUCT_BRAND            94797\n",
       "SHIPPING_AVAILABILITY        0\n",
       "PRODUCT_DESCRIPTION          1\n",
       "dtype: int64"
      ]
     },
     "execution_count": 7,
     "metadata": {},
     "output_type": "execute_result"
    }
   ],
   "source": [
    "df.isnull().sum()"
   ]
  },
  {
   "cell_type": "code",
   "execution_count": null,
   "id": "1d1fc397",
   "metadata": {},
   "outputs": [],
   "source": []
  }
 ],
 "metadata": {
  "kernelspec": {
   "display_name": "Python 3.10.6 64-bit",
   "language": "python",
   "name": "python3"
  },
  "language_info": {
   "codemirror_mode": {
    "name": "ipython",
    "version": 3
   },
   "file_extension": ".py",
   "mimetype": "text/x-python",
   "name": "python",
   "nbconvert_exporter": "python",
   "pygments_lexer": "ipython3",
   "version": "3.10.6"
  },
  "vscode": {
   "interpreter": {
    "hash": "916dbcbb3f70747c44a77c7bcd40155683ae19c65e1c03b4aa3499c5328201f1"
   }
  }
 },
 "nbformat": 4,
 "nbformat_minor": 5
}
